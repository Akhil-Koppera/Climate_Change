{
 "cells": [
  {
   "cell_type": "markdown",
   "metadata": {},
   "source": [
    "# Climate Change\n",
    "\n",
    "\n",
    "“Some say climate change is the biggest threat of our age while others say it’s a myth based on dodgy science”. \n",
    "\n",
    "The objective of the project is to analyze the pattern in the various aspects of climatic systems to provide evidence about the climatic changes, a top concern in today’s fast-developing world. The plan is to collect the data of some of the top factors contributing to the change in climate. This includes the factors like rising temperatures, increase in the sea levels, rise in air pollution, etc. While there are many independent submissions that address these issues, there is a need for a consolidated view which connects all these factors. The project endeavors to answer some of the concerning questions with the data. \n"
   ]
  },
  {
   "cell_type": "markdown",
   "metadata": {},
   "source": [
    "### Import the necessary Libraries"
   ]
  },
  {
   "cell_type": "code",
   "execution_count": 2,
   "metadata": {},
   "outputs": [],
   "source": [
    "import sqlite3 as sq\n",
    "import pandas as pd\n",
    "import csv"
   ]
  },
  {
   "cell_type": "markdown",
   "metadata": {},
   "source": [
    "### Create connection to sqlite3 database"
   ]
  },
  {
   "cell_type": "code",
   "execution_count": 3,
   "metadata": {},
   "outputs": [],
   "source": [
    "db_file = 'Climate.db'\n",
    "conn = sq.connect(db_file)\n",
    "# conn.close()\n",
    "c=conn.cursor()"
   ]
  },
  {
   "cell_type": "markdown",
   "metadata": {},
   "source": [
    "### Load the datasets into tables "
   ]
  },
  {
   "cell_type": "markdown",
   "metadata": {},
   "source": [
    "We start by reading the sql queries from file."
   ]
  },
  {
   "cell_type": "code",
   "execution_count": 4,
   "metadata": {},
   "outputs": [],
   "source": [
    "def create_tables_from_file():\n",
    "    with open('create_tables.sql','r') as f:\n",
    "        for query in f:\n",
    "            c.execute(query)\n",
    "\n",
    "        \n",
    "create_tables_from_file()"
   ]
  },
  {
   "cell_type": "markdown",
   "metadata": {},
   "source": [
    "Next step is to insert the records from the csv files into their respective tables"
   ]
  },
  {
   "cell_type": "code",
   "execution_count": 9,
   "metadata": {},
   "outputs": [],
   "source": [
    "def insert_records():\n",
    "    datasets = ['GlobalLandTemperaturesByCountry.csv',\n",
    "                'GlobalLandTemperaturesByCity.csv',\n",
    "                'GlobalTemperatures.csv',\n",
    "                'GlobalLandTemperaturesByState.csv',\n",
    "                'GlobalLandTemperaturesByMajorCity.csv']\n",
    "    \n",
    "    #datasets = ['GlobalLandTemperaturesByMajorCity.csv']\n",
    "    \n",
    "    for dataset in datasets:\n",
    "        \n",
    "        if dataset == 'GlobalLandTemperaturesByCity.csv':\n",
    "            f= open(dataset,'r',encoding=\"utf8\")\n",
    "        else:\n",
    "            f= open(dataset,'r')\n",
    "            \n",
    "        \n",
    "        data = csv.DictReader(f)\n",
    "        \n",
    "        if dataset == 'GlobalLandTemperaturesByCountry.csv':\n",
    "            to_db = [(i['dt'], i['AverageTemperature'],i['AverageTemperatureUncertainty'],i['Country']) for i in data]\n",
    "            query = \"INSERT INTO COUNTRY (DATE, AVG_TEMP,AVG_TEMP_UNC,COUNTRY) VALUES (?,?,?,?);\"\n",
    "        \n",
    "        elif dataset == 'GlobalLandTemperaturesByCity.csv':\n",
    "            to_db = [(i['dt'], i['AverageTemperature'],i['AverageTemperatureUncertainty'],i['City'],i['Country'],i['Latitude'],i['Longitude']) for i in data]\n",
    "            query = \"INSERT INTO CITY (DATE, AVG_TEMP,AVG_TEMP_UNC,CITY,COUNTRY,LATITUDE,LONGITUDE) VALUES (?, ?,?,?,?,?,?);\"\n",
    "        \n",
    "        elif dataset == 'GlobalTemperatures.csv':\n",
    "            to_db = [(i['dt'], i['LandAverageTemperature'],i['LandAverageTemperatureUncertainty'],i['LandMaxTemperature'],i['LandMaxTemperatureUncertainty'],i['LandMinTemperature'],i['LandMinTemperatureUncertainty'],i['LandAndOceanAverageTemperature'],i['LandAndOceanAverageTemperatureUncertainty']) for i in data]\n",
    "            query = \"INSERT INTO GLOBAL_TEMP (DATE,LAND_AVG_TEMP,LAND_AVG_TEMP_UNC,LAND_MAX_TEMP,LAND_MAX_UNC,LAND_MIN_TEMP,LAND_MIN_UNC,LAND_OC_TEMP,LAND_OC_UNC) VALUES (?, ?,?,?,?,?,?,?,?);\"\n",
    "        \n",
    "        elif dataset == 'GlobalLandTemperaturesByState.csv':\n",
    "            to_db = [(i['dt'], i['AverageTemperature'],i['AverageTemperatureUncertainty'],i['State'],i['Country']) for i in data]\n",
    "            query = \"INSERT INTO STATE (DATE,AVG_TEMP,AVG_TEMP_UNC,STATE,COUNTRY) VALUES (?, ?,?,?,?);\"\n",
    "        \n",
    "        elif dataset == 'GlobalLandTemperaturesByMajorCity.csv':\n",
    "            to_db = [(i['dt'], i['AverageTemperature'],i['AverageTemperatureUncertainty'],i['City'],i['Country'],i['Latitude'],i['Longitude']) for i in data]\n",
    "            query = \"INSERT INTO MAJOR_CITY (DATE,AVG_TEMP,AVG_TEMP_UNC,CITY,COUNTRY,LATITUDE,LONGITUDE) VALUES (?, ?,?,?,?,?,?);\"\n",
    "            \n",
    " \n",
    "        c.executemany(query, to_db)\n",
    "        conn.commit()\n",
    "        f.close()        \n",
    "            \n",
    "\n",
    "insert_records()"
   ]
  },
  {
   "cell_type": "code",
   "execution_count": 10,
   "metadata": {},
   "outputs": [
    {
     "name": "stdout",
     "output_type": "stream",
     "text": [
      "[(577462,)]\n",
      "[(8599212,)]\n",
      "[(3192,)]\n",
      "[(645675,)]\n",
      "[(239177,)]\n"
     ]
    }
   ],
   "source": [
    "#c.execute('select * from COUNTRY LIMIT 5')\n",
    "c.execute('select count(*) from COUNTRY')\n",
    "rows = c.fetchall()\n",
    "print(rows)\n",
    "c.execute('select count(*) from CITY')\n",
    "rows = c.fetchall()\n",
    "print(rows)\n",
    "c.execute('select count(*) from GLOBAL_TEMP')\n",
    "rows = c.fetchall()\n",
    "print(rows)\n",
    "c.execute('select count(*) from STATE')\n",
    "rows = c.fetchall()\n",
    "print(rows)\n",
    "c.execute('select count(*) from MAJOR_CITY')\n",
    "rows = c.fetchall()\n",
    "print(rows)"
   ]
  },
  {
   "cell_type": "code",
   "execution_count": 8,
   "metadata": {},
   "outputs": [
    {
     "data": {
      "text/plain": [
       "<sqlite3.Cursor at 0x20b34080110>"
      ]
     },
     "execution_count": 8,
     "metadata": {},
     "output_type": "execute_result"
    }
   ],
   "source": [
    "#c.execute('delete from  COUNTRY')\n",
    "#c.execute('delete from  CITY')\n",
    "#c.execute('delete from  GLOBAL_TEMP')\n",
    "#c.execute('delete from  STATE')\n",
    "#c.execute('delete from  MAJOR_CITY')"
   ]
  },
  {
   "cell_type": "code",
   "execution_count": null,
   "metadata": {},
   "outputs": [],
   "source": [
    "#c.execute('drop table  COUNTRY')\n",
    "#c.execute('drop table  CITY')\n",
    "#c.execute('drop table  GLOBAL_TEMP')\n",
    "#c.execute('drop table  STATE')\n",
    "#c.execute('drop table  MAJOR_CITY')"
   ]
  },
  {
   "cell_type": "code",
   "execution_count": null,
   "metadata": {},
   "outputs": [],
   "source": []
  }
 ],
 "metadata": {
  "kernelspec": {
   "display_name": "Python 3",
   "language": "python",
   "name": "python3"
  },
  "language_info": {
   "codemirror_mode": {
    "name": "ipython",
    "version": 3
   },
   "file_extension": ".py",
   "mimetype": "text/x-python",
   "name": "python",
   "nbconvert_exporter": "python",
   "pygments_lexer": "ipython3",
   "version": "3.6.6"
  }
 },
 "nbformat": 4,
 "nbformat_minor": 2
}
